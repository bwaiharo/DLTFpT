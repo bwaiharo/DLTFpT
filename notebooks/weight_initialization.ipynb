{
  "nbformat": 4,
  "nbformat_minor": 0,
  "metadata": {
    "kernelspec": {
      "display_name": "Python 3",
      "language": "python",
      "name": "python3"
    },
    "language_info": {
      "codemirror_mode": {
        "name": "ipython",
        "version": 3
      },
      "file_extension": ".py",
      "mimetype": "text/x-python",
      "name": "python",
      "nbconvert_exporter": "python",
      "pygments_lexer": "ipython3",
      "version": "3.7.3"
    },
    "colab": {
      "name": "weight_initialization.ipynb",
      "provenance": []
    }
  },
  "cells": [
    {
      "cell_type": "markdown",
      "metadata": {
        "id": "BcXDcQzc_icE"
      },
      "source": [
        "# Weight Initialization"
      ]
    },
    {
      "cell_type": "markdown",
      "metadata": {
        "id": "8JsMlevA_icF"
      },
      "source": [
        "In this notebook, we experiment with weight initialization approaches to examine their impact on layer outputs."
      ]
    },
    {
      "cell_type": "markdown",
      "metadata": {
        "id": "U4x_o1IK_icF"
      },
      "source": [
        "[![Open In Colab](https://colab.research.google.com/assets/colab-badge.svg)](https://colab.research.google.com/github/pantelis/DLTFpT/blob/master/notebooks/weight_initialization.ipynb)"
      ]
    },
    {
      "cell_type": "markdown",
      "metadata": {
        "id": "8gKECoP3_icG"
      },
      "source": [
        "#### Load dependencies"
      ]
    },
    {
      "cell_type": "code",
      "metadata": {
        "id": "9osJvlGm_icG"
      },
      "source": [
        "import numpy as np\n",
        "import matplotlib.pyplot as plt\n",
        "\n",
        "from tensorflow.keras import Sequential\n",
        "from tensorflow.keras.layers import Dense, Activation\n",
        "from tensorflow.keras.initializers import Zeros, RandomNormal, glorot_normal, glorot_uniform"
      ],
      "execution_count": 1,
      "outputs": []
    },
    {
      "cell_type": "markdown",
      "metadata": {
        "id": "wFncLOPy_icK"
      },
      "source": [
        "#### Set number of neurons"
      ]
    },
    {
      "cell_type": "code",
      "metadata": {
        "id": "7bq7oQUh_icK"
      },
      "source": [
        "n_input = 784\n",
        "n_dense = 256"
      ],
      "execution_count": 2,
      "outputs": []
    },
    {
      "cell_type": "markdown",
      "metadata": {
        "id": "4M0NtbCE_icN"
      },
      "source": [
        "#### Select a bias initializer"
      ]
    },
    {
      "cell_type": "code",
      "metadata": {
        "id": "WSg5Fwka_icQ"
      },
      "source": [
        "b_init = Zeros()"
      ],
      "execution_count": 3,
      "outputs": []
    },
    {
      "cell_type": "markdown",
      "metadata": {
        "id": "j2g4hPQx_icT"
      },
      "source": [
        "#### Select a weight initializer"
      ]
    },
    {
      "cell_type": "code",
      "metadata": {
        "id": "uxDsgpkY_icT"
      },
      "source": [
        "w_init = RandomNormal(stddev=1.0)\n",
        "# w_init = glorot_normal()\n",
        "# w_init = glorot_uniform()"
      ],
      "execution_count": 4,
      "outputs": []
    },
    {
      "cell_type": "markdown",
      "metadata": {
        "id": "Omy-4GEv_icW"
      },
      "source": [
        "#### Design neural network architecture"
      ]
    },
    {
      "cell_type": "code",
      "metadata": {
        "id": "IVgQhu9i_icW"
      },
      "source": [
        "model = Sequential()\n",
        "model.add(Dense(n_dense, \n",
        "                input_dim=n_input,\n",
        "                kernel_initializer=w_init,\n",
        "                bias_initializer=b_init))\n",
        "model.add(Activation('sigmoid'))\n",
        "# model.add(Activation('tanh'))\n",
        "# model.add(Activation('relu'))"
      ],
      "execution_count": 5,
      "outputs": []
    },
    {
      "cell_type": "markdown",
      "metadata": {
        "id": "W_BE6GfG_icY"
      },
      "source": [
        "#### Generate random *x* values"
      ]
    },
    {
      "cell_type": "code",
      "metadata": {
        "id": "Qvtj6fTy_icZ"
      },
      "source": [
        "x = np.random.random((1,n_input))"
      ],
      "execution_count": 6,
      "outputs": []
    },
    {
      "cell_type": "markdown",
      "metadata": {
        "id": "mfMPnHll_icd"
      },
      "source": [
        "#### Forward propagate through the network"
      ]
    },
    {
      "cell_type": "code",
      "metadata": {
        "id": "MdBFBt7U_icd"
      },
      "source": [
        "a = model.predict(x)"
      ],
      "execution_count": 7,
      "outputs": []
    },
    {
      "cell_type": "code",
      "metadata": {
        "id": "zEho1oiQ_icj",
        "outputId": "7d8a9855-a0b2-406b-9758-bcf43a1b800c",
        "colab": {
          "base_uri": "https://localhost:8080/"
        }
      },
      "source": [
        "a"
      ],
      "execution_count": 8,
      "outputs": [
        {
          "output_type": "execute_result",
          "data": {
            "text/plain": [
              "array([[1.00000000e+00, 9.89233494e-01, 1.00000000e+00, 3.13635837e-08,\n",
              "        5.85371256e-03, 1.00000000e+00, 4.88641319e-07, 4.80827123e-01,\n",
              "        5.96284866e-04, 1.03699297e-12, 1.00000000e+00, 9.99997735e-01,\n",
              "        2.20498443e-03, 4.45342064e-03, 1.00000000e+00, 9.87077832e-01,\n",
              "        1.00000000e+00, 3.88018191e-02, 2.80027816e-05, 1.00000000e+00,\n",
              "        2.36973895e-11, 9.99965191e-01, 6.31530906e-13, 1.07373297e-02,\n",
              "        1.00000000e+00, 3.03635001e-03, 9.99998748e-01, 9.99266982e-01,\n",
              "        9.20978069e-01, 4.56722452e-15, 4.29209213e-18, 8.68168473e-03,\n",
              "        1.00000000e+00, 1.00000000e+00, 3.83120147e-10, 1.00000000e+00,\n",
              "        9.61125697e-05, 3.96657060e-06, 1.37417526e-08, 9.85062599e-01,\n",
              "        9.99994278e-01, 1.00000000e+00, 1.00000000e+00, 1.00000000e+00,\n",
              "        3.10465693e-03, 1.83411321e-05, 3.19994751e-06, 9.99785304e-01,\n",
              "        2.65716295e-07, 2.82267792e-10, 1.00000000e+00, 7.52653828e-10,\n",
              "        9.83020902e-01, 7.34537840e-04, 9.99998927e-01, 9.99953985e-01,\n",
              "        9.99998987e-01, 1.45339370e-02, 9.47139638e-14, 6.02186620e-02,\n",
              "        9.99959707e-01, 1.20259870e-07, 2.08672881e-03, 4.35592256e-08,\n",
              "        9.91846561e-01, 2.17176564e-13, 9.99937654e-01, 7.01483549e-14,\n",
              "        1.17959112e-01, 3.98057455e-05, 9.86085415e-01, 2.24000216e-03,\n",
              "        1.00000000e+00, 1.10994020e-04, 1.09145214e-04, 8.51800463e-10,\n",
              "        1.44080889e-06, 9.99998987e-01, 9.89621639e-01, 9.59299266e-01,\n",
              "        5.34865519e-16, 7.33218894e-06, 1.33897096e-01, 2.92273171e-07,\n",
              "        4.65688427e-05, 1.99167322e-10, 1.18332025e-10, 2.02976189e-05,\n",
              "        2.94058740e-01, 1.00000000e+00, 9.98456717e-01, 8.07078322e-05,\n",
              "        9.34867084e-01, 9.88648772e-01, 9.99993443e-01, 9.99459147e-01,\n",
              "        1.00000000e+00, 9.15981531e-01, 9.96946812e-01, 1.04197087e-13,\n",
              "        2.81572342e-04, 5.65201044e-04, 9.84583914e-01, 1.53809488e-02,\n",
              "        3.05075815e-07, 6.19273603e-01, 5.10582328e-03, 9.99366641e-01,\n",
              "        1.00000000e+00, 4.60603729e-07, 1.68403767e-06, 2.22280294e-01,\n",
              "        9.99993801e-01, 8.75601199e-06, 7.16882944e-03, 2.00218392e-06,\n",
              "        7.44002682e-05, 9.99996662e-01, 1.84327837e-15, 7.59385109e-01,\n",
              "        9.26048160e-01, 1.99085207e-05, 9.34718192e-01, 9.99574661e-01,\n",
              "        5.34052351e-11, 3.12987864e-02, 4.71745849e-01, 4.08354538e-07,\n",
              "        8.66526850e-11, 9.13831609e-05, 1.49787366e-01, 1.00000000e+00,\n",
              "        6.46503857e-12, 3.86476517e-04, 2.02984989e-08, 9.96763229e-01,\n",
              "        8.42288673e-01, 9.99993801e-01, 1.52572989e-03, 9.99999762e-01,\n",
              "        1.00000000e+00, 3.15745783e-05, 8.71074438e-01, 1.12539113e-01,\n",
              "        9.97601628e-01, 1.56402588e-04, 1.10405352e-04, 5.81998120e-06,\n",
              "        9.17536736e-01, 7.30422762e-05, 3.29953727e-05, 1.01769365e-04,\n",
              "        1.00000000e+00, 9.99999225e-01, 9.99999583e-01, 1.00000000e+00,\n",
              "        1.19283646e-01, 3.51793484e-14, 9.90039349e-01, 9.94711518e-01,\n",
              "        5.99922835e-13, 6.45485579e-06, 1.56933069e-03, 3.22646770e-07,\n",
              "        9.99545693e-01, 2.33754516e-03, 3.20965300e-05, 5.34891188e-02,\n",
              "        1.43323158e-08, 3.75688994e-11, 9.94602621e-01, 9.91289854e-01,\n",
              "        6.16753101e-03, 9.24187660e-01, 1.85608864e-04, 1.36569142e-03,\n",
              "        1.00000000e+00, 9.99998927e-01, 9.99968886e-01, 6.64425194e-02,\n",
              "        7.30184376e-01, 4.13274286e-08, 1.35209348e-07, 1.00000000e+00,\n",
              "        9.99999821e-01, 8.76268268e-01, 9.99999702e-01, 1.00000000e+00,\n",
              "        9.44655061e-01, 9.99673843e-01, 1.81046357e-06, 9.99999642e-01,\n",
              "        9.64312380e-11, 9.97632027e-01, 1.00000000e+00, 3.46824825e-02,\n",
              "        9.99838948e-01, 9.99927700e-01, 1.00000000e+00, 5.27977347e-02,\n",
              "        1.08056068e-02, 4.37479150e-11, 4.19606494e-07, 4.14890051e-03,\n",
              "        9.22495604e-01, 9.94943738e-01, 8.51274729e-02, 1.41826768e-05,\n",
              "        5.07692695e-02, 6.04004090e-05, 1.00000000e+00, 3.45328266e-10,\n",
              "        9.35259221e-14, 6.03312254e-03, 1.60942255e-16, 9.87746000e-01,\n",
              "        1.71700727e-11, 3.03560495e-03, 1.00000000e+00, 2.01526469e-11,\n",
              "        5.55451511e-15, 6.14699423e-02, 1.00000000e+00, 2.84839898e-05,\n",
              "        8.17678571e-01, 9.99247968e-01, 9.99915302e-01, 9.93513823e-01,\n",
              "        1.00000000e+00, 1.92936540e-01, 7.07487345e-01, 9.99992013e-01,\n",
              "        8.20599496e-02, 9.92744446e-01, 1.30575895e-03, 4.12434340e-04,\n",
              "        3.75361532e-01, 9.38477920e-13, 1.00000000e+00, 1.00000000e+00,\n",
              "        9.99989033e-01, 3.10254395e-01, 1.27908439e-09, 1.49962008e-02,\n",
              "        3.07531208e-01, 1.04968776e-05, 1.00000000e+00, 3.79688572e-05,\n",
              "        9.99906063e-01, 3.06987744e-07, 9.99686956e-01, 9.99999404e-01,\n",
              "        5.23583017e-11, 9.16485499e-11, 1.37681457e-06, 9.99999464e-01]],\n",
              "      dtype=float32)"
            ]
          },
          "metadata": {
            "tags": []
          },
          "execution_count": 8
        }
      ]
    },
    {
      "cell_type": "code",
      "metadata": {
        "id": "S6Lj_Hik_icn",
        "outputId": "8999025c-b598-4d10-91e3-ba5ee557d8bc",
        "colab": {
          "base_uri": "https://localhost:8080/",
          "height": 265
        }
      },
      "source": [
        "_ = plt.hist(np.transpose(a))"
      ],
      "execution_count": 9,
      "outputs": [
        {
          "output_type": "display_data",
          "data": {
            "image/png": "[encoded data removed]",
            "text/plain": [
              "<Figure size 432x288 with 1 Axes>"
            ]
          },
          "metadata": {
            "tags": [],
            "needs_background": "light"
          }
        }
      ]
    },
    {
      "cell_type": "code",
      "metadata": {
        "id": "Tzj8H41Y_icp"
      },
      "source": [
        ""
      ],
      "execution_count": 9,
      "outputs": []
    }
  ]
}